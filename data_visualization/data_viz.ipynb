{
 "cells": [
  {
   "cell_type": "markdown",
   "metadata": {},
   "source": [
    "## Validation Phase TO DO\n",
    "1. Data drift and Target Drift.\n",
    "2. Missing columns.\n",
    "3. Null values.\n",
    "4. Outliers.\n",
    "5. Categorical anamolies.\n",
    "6. Imbalanced data handling.\n",
    "7.  "
   ]
  },
  {
   "cell_type": "markdown",
   "metadata": {},
   "source": [
    "## Data Drift Check\n"
   ]
  },
  {
   "cell_type": "code",
   "execution_count": 2,
   "metadata": {},
   "outputs": [],
   "source": [
    "from dataclasses import dataclass\n",
    "from scipy import stats\n",
    "import numpy as np\n",
    "import pandas as pd"
   ]
  },
  {
   "cell_type": "code",
   "execution_count": 3,
   "metadata": {},
   "outputs": [],
   "source": [
    "rng= np.random.default_rng()\n",
    "sample1= stats.uniform.rvs(size= 100, random_state=rng)\n",
    "sample2= stats.norm.rvs(size= 100, random_state=rng)"
   ]
  },
  {
   "cell_type": "code",
   "execution_count": 6,
   "metadata": {},
   "outputs": [],
   "source": [
    "response=  stats.ks_2samp(sample1, sample2)"
   ]
  },
  {
   "cell_type": "code",
   "execution_count": 7,
   "metadata": {},
   "outputs": [
    {
     "data": {
      "text/plain": [
       "array([0.30800432, 0.59801409, 0.69430488, 0.1877523 , 0.31915725,\n",
       "       0.80675821, 0.37393332, 0.81033796, 0.44689378, 0.05990208,\n",
       "       0.18978008, 0.35608416, 0.52343634, 0.85294183, 0.55561891,\n",
       "       0.78108972, 0.33004352, 0.63376162, 0.66824272, 0.50143509,\n",
       "       0.98395609, 0.82458564, 0.45606356, 0.89421843, 0.08533826,\n",
       "       0.3148465 , 0.13333588, 0.12720875, 0.31272272, 0.04590051,\n",
       "       0.03665555, 0.35456016, 0.2684597 , 0.3332958 , 0.28432892,\n",
       "       0.79657605, 0.46284463, 0.89398298, 0.69126644, 0.52589896,\n",
       "       0.04330613, 0.76519126, 0.04188921, 0.49862646, 0.00859668,\n",
       "       0.45826773, 0.12792945, 0.26265151, 0.22731256, 0.25779479,\n",
       "       0.00474841, 0.76020248, 0.035262  , 0.41529628, 0.46315704,\n",
       "       0.98481515, 0.78192341, 0.34919934, 0.32480262, 0.36582641,\n",
       "       0.69097811, 0.75380857, 0.18230948, 0.42074218, 0.49688647,\n",
       "       0.82585867, 0.35441868, 0.72035959, 0.74559787, 0.74431538,\n",
       "       0.40056962, 0.27193706, 0.32429686, 0.07737887, 0.05251524,\n",
       "       0.73008889, 0.39460686, 0.56440638, 0.21462394, 0.01091895,\n",
       "       0.36530135, 0.77274757, 0.59480973, 0.40902058, 0.45297055,\n",
       "       0.9307626 , 0.6456724 , 0.90386297, 0.13759829, 0.16937569,\n",
       "       0.55863911, 0.42819529, 0.72723842, 0.08056115, 0.05532071,\n",
       "       0.49121207, 0.96066751, 0.3527042 , 0.48218419, 0.4958291 ])"
      ]
     },
     "execution_count": 7,
     "metadata": {},
     "output_type": "execute_result"
    }
   ],
   "source": [
    "sample1"
   ]
  },
  {
   "cell_type": "code",
   "execution_count": 8,
   "metadata": {},
   "outputs": [
    {
     "data": {
      "text/plain": [
       "array([ 8.49837441e-01,  2.21144380e+00,  7.13327067e-01,  1.93960209e-01,\n",
       "        7.97997224e-01, -1.04908113e+00,  8.16022726e-01,  5.56795798e-01,\n",
       "       -1.27365380e+00, -1.37757709e+00, -3.73322990e-01, -8.44705182e-01,\n",
       "        1.14240476e+00, -1.32545409e-01, -1.08055129e+00,  9.71575601e-01,\n",
       "       -2.06334763e+00, -4.99218505e-01, -1.35486699e+00,  1.25388286e+00,\n",
       "        1.03758578e+00,  6.60556646e-01,  2.96980669e-01, -1.09702971e+00,\n",
       "       -4.68367653e-02,  2.73954675e-01,  2.03782066e+00, -7.48436567e-01,\n",
       "        1.48851518e+00,  1.18486754e+00,  6.37207768e-01, -5.69993242e-02,\n",
       "       -1.82204421e+00,  4.25547167e-01,  6.67970684e-01, -2.28349856e-01,\n",
       "       -7.14247960e-01, -1.11907276e+00, -2.95334684e-01,  9.89511488e-01,\n",
       "        3.91381939e-01,  7.31489627e-02,  2.55564886e+00,  6.39182913e-01,\n",
       "       -5.83956965e-01, -2.51774153e-01,  7.21837798e-01, -1.80765950e-01,\n",
       "       -8.19984744e-01, -1.16045905e+00, -1.77335728e+00,  4.68202839e-01,\n",
       "        1.28322744e-03, -4.73606497e-01,  3.54560382e-01,  4.54240313e-01,\n",
       "        1.24963968e+00, -1.06585252e+00,  1.16486123e+00, -3.40189852e-01,\n",
       "        1.66277958e+00,  1.01911054e+00,  9.08090768e-01, -6.61946334e-01,\n",
       "       -1.25940839e+00, -3.75290120e-01, -2.70338425e-02, -1.08760042e+00,\n",
       "        8.08691351e-01,  4.36753690e-01, -1.02009183e+00, -1.30135799e+00,\n",
       "       -3.57646089e-01,  2.61841112e-01, -1.11714562e+00,  1.82484057e-01,\n",
       "       -2.45433800e+00, -6.74795052e-01, -1.00989940e-01,  1.45722685e+00,\n",
       "        2.81623386e-01,  1.05900894e+00, -1.41881489e+00, -7.42573227e-01,\n",
       "       -1.68478428e-01, -7.42804244e-02,  4.28327942e-01,  6.19813070e-01,\n",
       "       -2.19816122e+00, -1.38223440e+00, -1.25806286e+00,  8.95392823e-01,\n",
       "        8.73245373e-01,  1.05074408e-01, -4.92860605e-01,  5.38271707e-01,\n",
       "       -1.09239203e+00,  1.42330102e+00,  3.36831169e-01,  3.91245403e-01])"
      ]
     },
     "execution_count": 8,
     "metadata": {},
     "output_type": "execute_result"
    }
   ],
   "source": [
    "sample2"
   ]
  },
  {
   "cell_type": "code",
   "execution_count": 11,
   "metadata": {},
   "outputs": [
    {
     "data": {
      "text/plain": [
       "0.0"
      ]
     },
     "execution_count": 11,
     "metadata": {},
     "output_type": "execute_result"
    }
   ],
   "source": [
    "round(response.pvalue,4)"
   ]
  },
  {
   "cell_type": "markdown",
   "metadata": {},
   "source": [
    "If the p value of the ks_2samp test is less than 0.05 then it means that both the samples do not belong to the same distribution."
   ]
  },
  {
   "cell_type": "markdown",
   "metadata": {},
   "source": [
    "This is known as data drift and retraining must be done if data drift is observed."
   ]
  },
  {
   "cell_type": "markdown",
   "metadata": {},
   "source": []
  }
 ],
 "metadata": {
  "kernelspec": {
   "display_name": "Python 3 (ipykernel)",
   "language": "python",
   "name": "python3"
  },
  "language_info": {
   "codemirror_mode": {
    "name": "ipython",
    "version": 3
   },
   "file_extension": ".py",
   "mimetype": "text/x-python",
   "name": "python",
   "nbconvert_exporter": "python",
   "pygments_lexer": "ipython3",
   "version": "3.9.13 (main, Aug 25 2022, 23:51:50) [MSC v.1916 64 bit (AMD64)]"
  },
  "vscode": {
   "interpreter": {
    "hash": "2f3eb0242237f7482054201cdc0254386ced23c6e95d6945cb90bc9b5b8e1362"
   }
  }
 },
 "nbformat": 4,
 "nbformat_minor": 4
}
